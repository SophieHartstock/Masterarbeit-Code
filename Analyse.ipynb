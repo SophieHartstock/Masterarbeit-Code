{
 "cells": [
  {
   "cell_type": "markdown",
   "metadata": {},
   "source": [
    "# Analyse"
   ]
  },
  {
   "cell_type": "markdown",
   "metadata": {},
   "source": [
    "Warnungen des Systems ignorieren."
   ]
  },
  {
   "cell_type": "code",
   "execution_count": 1,
   "metadata": {},
   "outputs": [],
   "source": [
    "import warnings\n",
    "warnings.filterwarnings('ignore')"
   ]
  },
  {
   "cell_type": "markdown",
   "metadata": {},
   "source": [
    "Einalden der benötigen Bibliotheken."
   ]
  },
  {
   "cell_type": "code",
   "execution_count": 2,
   "metadata": {},
   "outputs": [],
   "source": [
    "from shapely.geometry import *\n",
    "from shapely.ops import unary_union\n",
    "\n",
    "import geopandas as gpd\n",
    "import pandas as pd\n",
    "import numpy as np"
   ]
  },
  {
   "cell_type": "markdown",
   "metadata": {},
   "source": [
    "Für das Anzeigen des GDF wird noch eingestellt über Pandas, dass nicht die wissenschaftliche Schreibweise angezeigt wird, sondern Gleitkommazahlen mit 4 Nachkommastellen"
   ]
  },
  {
   "cell_type": "code",
   "execution_count": 3,
   "metadata": {},
   "outputs": [],
   "source": [
    "pd.options.display.float_format = '{:.4f}'.format"
   ]
  },
  {
   "cell_type": "code",
   "execution_count": 4,
   "metadata": {},
   "outputs": [],
   "source": [
    "kreise_gdf = gpd.read_file(\"./Daten/Bevoelkerung/Anteil_Ue64_SH.geojson\")\n",
    "ewz_gdf = gpd.read_file(\"./Daten/Bevoelkerung/Gemeindegrenzen_SH_2021_mit_Einwohnerzahl.geojson\")"
   ]
  },
  {
   "cell_type": "markdown",
   "metadata": {},
   "source": [
    "Gesamtfläche von Schleswig-Holstein in km2 berechnen"
   ]
  },
  {
   "cell_type": "code",
   "execution_count": 5,
   "metadata": {},
   "outputs": [
    {
     "data": {
      "text/plain": [
       "15613.633027296251"
      ]
     },
     "execution_count": 5,
     "metadata": {},
     "output_type": "execute_result"
    }
   ],
   "source": [
    "gesamtflaeche = kreise_gdf['geometry'].area.sum()\n",
    "gesamtflaeche/1000000"
   ]
  },
  {
   "cell_type": "markdown",
   "metadata": {},
   "source": [
    "Werte für die Spalte ai0207 (Anteil Ü64) mit 2222222222.0000 haben keine Angaben. Damit diese Zahl nicht in der statistischen Auswertung berücsichtigt wird, werden die Werte mit NaN ersetzt. "
   ]
  },
  {
   "cell_type": "code",
   "execution_count": 8,
   "metadata": {},
   "outputs": [],
   "source": [
    "kreise_gdf['ai0207'] = kreise_gdf['ai0207'].replace([2222222222.0000], np.NaN)"
   ]
  },
  {
   "cell_type": "markdown",
   "metadata": {},
   "source": [
    "Da der Schlüssel von kreide_gdf und AGS von ewz_gdf nicht 100% übereinstimmen, müssen Anpassungen vorgenommen werden. Die Schlüsselzahl bei kreise_gdf besteht nur aus 5 Zahlen, der bei ewz_gdf aus 8. Dies ist nur bei den Städten der Fall, von daher können hier die fehlenden drei Nullen angehängt werden."
   ]
  },
  {
   "cell_type": "code",
   "execution_count": 9,
   "metadata": {},
   "outputs": [],
   "source": [
    "# Funktion zum Anhängen von \"000\"\n",
    "def append_zeros(value):\n",
    "    if len(str(value)) < 8:\n",
    "        return str(value) + \"000\"\n",
    "    else:\n",
    "        return str(value)\n",
    "\n",
    "# Anwenden der Funktion auf die gewünschte Spalte\n",
    "kreise_gdf['schluessel'] = kreise_gdf['schluessel'].apply(append_zeros)"
   ]
  },
  {
   "cell_type": "markdown",
   "metadata": {},
   "source": [
    "Auf Grundlage der Schlüssel für die Gemeinden (schluessel und AGS) könne die Einwohnerzahlen nun über eine Vereinigung zu dem kreise_gdf hinzugefügt werden."
   ]
  },
  {
   "cell_type": "code",
   "execution_count": 10,
   "metadata": {},
   "outputs": [],
   "source": [
    "merged_gdf = kreise_gdf.merge(ewz_gdf[['GEN','EWZ','AGS']], left_on='schluessel', right_on = 'AGS', how=\"left\")"
   ]
  },
  {
   "cell_type": "markdown",
   "metadata": {},
   "source": [
    "### Isochronen einladen "
   ]
  },
  {
   "cell_type": "code",
   "execution_count": 11,
   "metadata": {},
   "outputs": [],
   "source": [
    "iso = gpd.read_file(\"./Isochronen/Minimalgraph/IST/Alpha0002/20minuten.geojson\")"
   ]
  },
  {
   "cell_type": "markdown",
   "metadata": {},
   "source": [
    "### Alternativ mit Rastern"
   ]
  },
  {
   "cell_type": "code",
   "execution_count": null,
   "metadata": {},
   "outputs": [],
   "source": [
    "raster = gpd.read_file(\"./Isochronen/Minimalgraph/IST/Raster500/rastermittraveltim550.geojson\")\n",
    "# raster nur für 5Minuten behalten\n",
    "# Filtern nach Spalte 'mean_travel_time'\n",
    "raster = raster[raster['mean_travel_time'] <= 20]"
   ]
  },
  {
   "cell_type": "markdown",
   "metadata": {},
   "source": [
    "### Analyse"
   ]
  },
  {
   "cell_type": "markdown",
   "metadata": {},
   "source": [
    "Funktion, die die Isochronen zu einer Geomterie machen und dann die Überlappungen mit den einzelnen Gemeinden berechnet (als Fläche absolut, relativ und Anzahl der Einwohner, die abgedeckt werden,ebenfalls relativ und absolut). "
   ]
  },
  {
   "cell_type": "code",
   "execution_count": 12,
   "metadata": {},
   "outputs": [],
   "source": [
    "def pro_gemeinde(datensatz):\n",
    "    # Einzelnen Isochronen zu einer einzelnen Geometrie zu einem Multipolygon vereinigen \n",
    "    # Verwende die unary_union-Funktion, um alle Geometrien zu einem einzigen Multipolygon zu vereinen\n",
    "    combined_geometry = unary_union(datensatz['geometry'])\n",
    "\n",
    "    # Erstelle eine neue GeoDataFrame mit dem kombinierten Multipolygon\n",
    "    gdf = gpd.GeoDataFrame({'combined_geometry': [combined_geometry]}, geometry='combined_geometry')\n",
    "\n",
    "    # Überlappungen der Isochronen mit den einzelnen Gemeidnen berechnen. Dafür wird eine neue Spalte 'coverage_percentage' \n",
    "    # zu GeoDataFrame merged_gdf hinzugefügt. In diesem steht die Überalppung in Prozent.\n",
    "    # Berechne die Überlappung zwischen Isochronen und Gemeinden\n",
    "    intersection = gpd.overlay(merged_gdf, gdf, how='intersection')\n",
    "\n",
    "    # Berechne die Fläche der überlappenden Geometrien\n",
    "    intersection['overlap_area'] = intersection.geometry.area\n",
    "\n",
    "    # Fasse die Fläche nach Gemeinde zusammen\n",
    "    overlap_by_gemeinde = intersection.groupby('schluessel')['overlap_area'].sum()\n",
    "\n",
    "    # Füge die überlappende Fläche den Gemeinden hinzu\n",
    "    new_gdf = merged_gdf.merge(overlap_by_gemeinde, how='left', left_on='schluessel', right_index=True)\n",
    "\n",
    "    # Berechne den Prozentsatz der Gemeindefläche, die abgedeckt wird\n",
    "    new_gdf['coverage_percentage'] = (new_gdf['overlap_area'] / new_gdf['geometry'].area) * 100\n",
    "\n",
    "    # Einwohnerzahl der Gemeinden ebenfalls noch in Prozent zu gesamt SH umrechnen. Dafür muss die Einwohnerzahl EWZ \n",
    "    # durch die Gesamteinwohnerzahl von SH geteilt werden und mit 100 multipliziert.\n",
    "    new_gdf['EWZ'].sum()\n",
    "    # Berechne den Prozentsatz der Gemeindefläche, die abgedeckt wird\n",
    "    new_gdf['EWZ_percentage'] = (new_gdf['EWZ'] / new_gdf['EWZ'].sum()) * 100\n",
    "\n",
    "    # Einwohner in Prozent, die eine Arzt in 5 Minuten erreichen\n",
    "    # Berechne den Prozentsatz der Einwohner pro Gemeinde, die abgedeckt sind durch Isochronen\n",
    "    new_gdf['anzahl_EW_abgedeckt'] = new_gdf['EWZ'] * (new_gdf['coverage_percentage'] / 100)\n",
    "    \n",
    "    return (new_gdf)"
   ]
  },
  {
   "cell_type": "code",
   "execution_count": 13,
   "metadata": {},
   "outputs": [],
   "source": [
    "iso = pro_gemeinde(iso)"
   ]
  },
  {
   "cell_type": "markdown",
   "metadata": {},
   "source": [
    "Gesamte Fläche in km2 die innerhalb die die Isochrone abdeckt."
   ]
  },
  {
   "cell_type": "code",
   "execution_count": 14,
   "metadata": {},
   "outputs": [
    {
     "data": {
      "text/plain": [
       "372.98838732506516"
      ]
     },
     "execution_count": 14,
     "metadata": {},
     "output_type": "execute_result"
    }
   ],
   "source": [
    "iso['overlap_area'].sum()/1000000"
   ]
  },
  {
   "cell_type": "markdown",
   "metadata": {},
   "source": [
    "Einwohneranzahl, die innerhalb der Isochrone liegen und einen Arzt erreichen."
   ]
  },
  {
   "cell_type": "code",
   "execution_count": 104,
   "metadata": {},
   "outputs": [
    {
     "data": {
      "text/plain": [
       "54729.950423162176"
      ]
     },
     "execution_count": 104,
     "metadata": {},
     "output_type": "execute_result"
    }
   ],
   "source": [
    "iso['anzahl_EW_abgedeckt'].sum()"
   ]
  },
  {
   "cell_type": "markdown",
   "metadata": {},
   "source": [
    "Einwohneranzahl gesamt in Prozent (zu ganz SH im Vergleich), die innerhlab der Isochrone liegen und einen Arzt erreichen."
   ]
  },
  {
   "cell_type": "code",
   "execution_count": 105,
   "metadata": {},
   "outputs": [
    {
     "data": {
      "text/plain": [
       "1.8730272680287054"
      ]
     },
     "execution_count": 105,
     "metadata": {},
     "output_type": "execute_result"
    }
   ],
   "source": [
    "((iso['anzahl_EW_abgedeckt'].sum()) / (iso['EWZ'].sum())) * 100"
   ]
  }
 ],
 "metadata": {
  "kernelspec": {
   "display_name": "Python 3",
   "language": "python",
   "name": "python3"
  },
  "language_info": {
   "codemirror_mode": {
    "name": "ipython",
    "version": 3
   },
   "file_extension": ".py",
   "mimetype": "text/x-python",
   "name": "python",
   "nbconvert_exporter": "python",
   "pygments_lexer": "ipython3",
   "version": "3.10.9"
  }
 },
 "nbformat": 4,
 "nbformat_minor": 2
}
