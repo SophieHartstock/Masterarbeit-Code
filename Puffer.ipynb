{
 "cells": [
  {
   "cell_type": "markdown",
   "metadata": {},
   "source": [
    "# Puffer"
   ]
  },
  {
   "cell_type": "markdown",
   "metadata": {},
   "source": [
    "## Bibliotheken importieren"
   ]
  },
  {
   "cell_type": "code",
   "execution_count": 1,
   "metadata": {},
   "outputs": [],
   "source": [
    "import warnings\n",
    "warnings.filterwarnings('ignore')\n",
    "\n",
    "from shapely.geometry import *\n",
    "\n",
    "import osmnx as ox\n",
    "import networkx as nx\n",
    "import geopandas as gpd\n",
    "import pandas as pd\n",
    "import matplotlib.pyplot as plt"
   ]
  },
  {
   "cell_type": "markdown",
   "metadata": {},
   "source": [
    "Den zu analysierenden Netzwerkgraphen einladen und ins entsprechende Koordiantensystem projizieren."
   ]
  },
  {
   "cell_type": "code",
   "execution_count": 2,
   "metadata": {},
   "outputs": [],
   "source": [
    "G = ox.graph_from_xml('./Daten/osm/gesamtgraph.osm', simplify=False)\n",
    "G = ox.project_graph(G, to_crs='EPSG:25832')"
   ]
  },
  {
   "cell_type": "markdown",
   "metadata": {},
   "source": [
    "Um später Puffer um entsprechende Bereiche des Graphens zu legen, wird eine Spalte 'time' hinzugefügt, die jeder Kante einen enstprechenden Wiederstand definiert. Dieser entspricht der Reisezeit, die für die Kante unter Berücksichtigung der Geschwindigkeit gebraucht wird."
   ]
  },
  {
   "cell_type": "code",
   "execution_count": 3,
   "metadata": {},
   "outputs": [],
   "source": [
    "# Iterieren durch jede Kante im Graphen\n",
    "for u, v, data in G.edges(data=True):\n",
    "    # Konvertierung 'maxspeed' von String zu Float\n",
    "    maxspeed = float(data['maxspeed'])\n",
    "\n",
    "    # Berechnen der Zeit in Minuten und hinzufügen als 'time' zum Kantenattribut\n",
    "    data['time'] = (data['length'] / maxspeed) * (60 / 1000)"
   ]
  },
  {
   "cell_type": "markdown",
   "metadata": {},
   "source": [
    "## Ärzte einladen"
   ]
  },
  {
   "cell_type": "markdown",
   "metadata": {},
   "source": [
    "Einladen der Daten und Geometrien für die Ärzte. Die Koordianten werden wieder ins EPSG 25832 transformiert."
   ]
  },
  {
   "cell_type": "code",
   "execution_count": 7,
   "metadata": {},
   "outputs": [],
   "source": [
    "aerzte = gpd.read_file('./Daten/Aerzte/aerzte_general_sh.geojson')"
   ]
  },
  {
   "cell_type": "markdown",
   "metadata": {},
   "source": [
    "## Buffer erstellen"
   ]
  },
  {
   "cell_type": "markdown",
   "metadata": {},
   "source": [
    "### Buffer Funktion"
   ]
  },
  {
   "cell_type": "markdown",
   "metadata": {},
   "source": [
    "Funktion zur Puffer-Erstellung\n",
    "\n",
    "Mit der Funktion buffer können Puffer um das Netzwerk geladen werden. Diese werden entsprechend der vorher angegebenen Fahrzeit von den Ausgangspunkten aus erstellt und nur um das innerhalb der Zeit zu erreichende Netzwerk berechnet. Die Größe der Puffer kann variabel gewählt werden. \n",
    "\n",
    "\n",
    "Eingabe: \n",
    "- startpunkte : GeoDataFrame\n",
    "- zeit : integer\n",
    "- buffer : integer\n",
    "- speichername : string\n",
    "\n",
    "Ausgabe: \n",
    "- gdf : geoDataFrame"
   ]
  },
  {
   "cell_type": "code",
   "execution_count": 18,
   "metadata": {},
   "outputs": [],
   "source": [
    "def buffer(startpunkte,zeit,buffer, speichername):\n",
    "    gdf = gpd.GeoDataFrame()\n",
    "    # Iterieren über alle Einträge im GDF \"aerzte\"\n",
    "    for i in startpunkte.geometry:\n",
    "        start = Point(i.x, i.y)\n",
    "        s_p = ox.nearest_nodes(G, start.x, start.y)\n",
    "\n",
    "        subgraph = nx.ego_graph(G, s_p, radius=zeit, distance='time')\n",
    "        subgraph_edges = ox.graph_to_gdfs(subgraph, nodes=False, edges=True)\n",
    "\n",
    "        # Erstellen eines Puffer um die Kanten\n",
    "        buffer_radius = buffer  # in Metern\n",
    "        subgraph_edges['geometry'] = subgraph_edges['geometry'].buffer(buffer_radius)\n",
    "        gdf_edges = subgraph_edges[['geometry']]\n",
    "        \n",
    "        # Zusammenführen der Geometrien aus gdf_edges zu einer einzelnen Geometrie \n",
    "        merged_geometry = gdf_edges.unary_union\n",
    "\n",
    "        # Erstellen eins neues Geodataframes mit der zusammengeführten Geometrie\n",
    "        gdf_merged = gpd.GeoDataFrame(geometry=[merged_geometry])\n",
    "\n",
    "        gdf = pd.concat([gdf, gdf_merged], ignore_index=True)\n",
    "\n",
    "    gdf.to_file('./Puffer/'+speichername+'.geojson', driver = 'GeoJSON', crs='EPSG:25832')\n",
    "    return gdf"
   ]
  },
  {
   "cell_type": "code",
   "execution_count": 23,
   "metadata": {},
   "outputs": [],
   "source": [
    "gdf5 = buffer(aerzte,5,200,'buffer5')\n",
    "gdf10 = buffer(aerzte,10,400,'buffer10')\n",
    "gdf15 = buffer(aerzte,15,600,'buffer15')\n",
    "gdf20 = buffer(aerzte,20,800,'buffer20')"
   ]
  },
  {
   "cell_type": "markdown",
   "metadata": {},
   "source": [
    "## Kreise und Einwohner einlesen"
   ]
  },
  {
   "cell_type": "code",
   "execution_count": 11,
   "metadata": {},
   "outputs": [],
   "source": [
    "kreise_gdf = gpd.read_file(\"./Daten/Bevoelkerung/AnteilBevoelkerung2021_ab64_4326.geojson\")"
   ]
  },
  {
   "cell_type": "markdown",
   "metadata": {},
   "source": [
    "## Visualisiern "
   ]
  },
  {
   "cell_type": "code",
   "execution_count": null,
   "metadata": {},
   "outputs": [
    {
     "ename": "",
     "evalue": "",
     "output_type": "error",
     "traceback": [
      "\u001b[1;31mThe Kernel crashed while executing code in the the current cell or a previous cell. Please review the code in the cell(s) to identify a possible cause of the failure. Click <a href='https://aka.ms/vscodeJupyterKernelCrash'>here</a> for more info. View Jupyter <a href='command:jupyter.viewOutput'>log</a> for further details."
     ]
    }
   ],
   "source": [
    "fig, ax = plt.subplots(figsize=(20, 20))\n",
    "kreise_gdf.plot(ax=ax, color= 'darkgrey', alpha=0.8)\n",
    "gdf20.plot(ax=ax, color='red', alpha=0.9)\n",
    "gdf15.plot(ax=ax, color='orange', alpha=0.9)\n",
    "gdf10.plot(ax=ax, color='yellow', alpha=0.9)\n",
    "gdf5.plot(ax=ax, color='green', alpha=0.9)\n",
    "#aerzte.plot(ax=ax, color='black', markersize = 10)\n",
    "#ox.plot_graph(G, ax=ax, node_color='red', node_size=0, edge_linewidth=0.5, edge_color='#999999')\n",
    "\n",
    "ax.set_axis_off()\n",
    "# Zeige den Plot an\n",
    "plt.show()"
   ]
  }
 ],
 "metadata": {
  "kernelspec": {
   "display_name": "Python 3 (ipykernel)",
   "language": "python",
   "name": "python3"
  },
  "language_info": {
   "codemirror_mode": {
    "name": "ipython",
    "version": 3
   },
   "file_extension": ".py",
   "mimetype": "text/x-python",
   "name": "python",
   "nbconvert_exporter": "python",
   "pygments_lexer": "ipython3",
   "version": "3.10.9"
  }
 },
 "nbformat": 4,
 "nbformat_minor": 2
}
