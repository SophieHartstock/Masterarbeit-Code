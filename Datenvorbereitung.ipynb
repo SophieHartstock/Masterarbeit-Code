{
 "cells": [
  {
   "cell_type": "markdown",
   "metadata": {},
   "source": [
    "# Datenvorbereitung"
   ]
  },
  {
   "cell_type": "markdown",
   "metadata": {},
   "source": [
    "Die Warnungen, die vom Sytsem automatisch bei z.B. veralteten Versionen erstellt werden, werden deaktiviert."
   ]
  },
  {
   "cell_type": "code",
   "execution_count": 5,
   "metadata": {},
   "outputs": [],
   "source": [
    "import warnings\n",
    "warnings.filterwarnings('ignore')"
   ]
  },
  {
   "cell_type": "markdown",
   "metadata": {},
   "source": [
    "Einladen der Pakte, die für die Vorbereitung der Daten benötigt werden. Hierzu wird Geopandas verwendet."
   ]
  },
  {
   "cell_type": "code",
   "execution_count": 2,
   "metadata": {},
   "outputs": [],
   "source": [
    "import geopandas as gpd"
   ]
  },
  {
   "cell_type": "markdown",
   "metadata": {},
   "source": [
    "Einladen der Daten, die vobereitet werden. Das sind die Standorte der Ärzte für ganz Deutschland (arzt). Dieser stammt aus dem ESRI-OpenDataPortal. Außerdem der Anteil der Ü64-Jährigen pro Gemeinde in Deutschland (anteil) vom Statistikportal des Bundes und der Länder. Auch die Gemeindegrenzen mit der Einwohnerzahl werden eingeladen (gemeinde). Die Daten der Ärzte und der Gemeindegenzen mit Einwohnerzahl werden noch ins EPSG 25832 transformiert, da diese in 4326 vorliegen."
   ]
  },
  {
   "cell_type": "code",
   "execution_count": 33,
   "metadata": {},
   "outputs": [],
   "source": [
    "arzt = gpd.read_file('./Daten/Aerzte/aerzte_deutschland.geojson')\n",
    "arzt = arzt.to_crs(epsg = 25832)\n",
    "anteil = gpd.read_file('./Daten/Bevoelkerung/Anteil_Ue64_Deutschland.geojson')\n",
    "gemeinde = gpd.read_file('./Daten/Bevoelkerung/Gemeindegrenzen_2021_mit_Einwohnerzahl.geojson')\n",
    "gemeinde = gemeinde.to_crs(epsg = 25832)"
   ]
  },
  {
   "cell_type": "markdown",
   "metadata": {},
   "source": [
    "Einladen der Bundesländer von Deutschland. Daraus wird Schleswig-Holstein herausgefiltert. Diese Geometrie dient als Ausgangspunkt, auf die die andern zwei Datensätze zugeschnitten werden. Die Koordinaten werden ins Koordinatensstem 25832 transformiert."
   ]
  },
  {
   "cell_type": "code",
   "execution_count": 8,
   "metadata": {},
   "outputs": [],
   "source": [
    "sh = gpd.read_file('./Daten/BundeslA4nder_2021_mit_Einwohnerzahl.geojson')\n",
    "gdf = sh[sh['GEN'] == 'Schleswig-Holstein']\n",
    "gdf = gdf.to_crs(epsg = 25832)"
   ]
  },
  {
   "cell_type": "markdown",
   "metadata": {},
   "source": [
    "Die Daten (arzt und anteil) werden beide auf Schleswig-Holstein (gdf) zugeschnitten. "
   ]
  },
  {
   "cell_type": "code",
   "execution_count": 34,
   "metadata": {},
   "outputs": [],
   "source": [
    "arzt = gpd.clip(arzt, gdf)\n",
    "anteil = gpd.clip(anteil, gdf)\n",
    "gemeinde = gpd.clip(gemeinde, gdf)"
   ]
  },
  {
   "cell_type": "markdown",
   "metadata": {},
   "source": [
    "Der Datensatz der Ärzte wird gefiltert. Es werden nur Allgemeinärzte (healthcare_speciality = general) und undefinierte Ärzte (healthcare_speciality = NaN) berücksichtigt."
   ]
  },
  {
   "cell_type": "code",
   "execution_count": 20,
   "metadata": {},
   "outputs": [],
   "source": [
    "# Auswahl der Zeilen mit \"general\" oder Null in der Spalte \"healthcare_speciality\"\n",
    "auswahl = arzt.loc[(arzt['healthcare_speciality'].str.contains('general', case=False, na=False)) | (arzt['healthcare_speciality'].isna())]"
   ]
  },
  {
   "cell_type": "markdown",
   "metadata": {},
   "source": [
    "Die zugeschnittenen Datensätze werden für weitere Berechnungen abgespeichert."
   ]
  },
  {
   "cell_type": "code",
   "execution_count": 38,
   "metadata": {},
   "outputs": [],
   "source": [
    "auswahl.to_file('./Daten/Aerzte/aerzte_general_sh.geojson')\n",
    "anteil.to_file('./Daten/Bevoelkerung/Anteil_Ue64_SH.geojson')\n",
    "gemeinde.to_file('./Daten/Bevoelkerung/Gemeindegrenzen_SH_2021_mit_Einwohnerzahl.geojson')"
   ]
  }
 ],
 "metadata": {
  "kernelspec": {
   "display_name": "base",
   "language": "python",
   "name": "python3"
  },
  "language_info": {
   "codemirror_mode": {
    "name": "ipython",
    "version": 3
   },
   "file_extension": ".py",
   "mimetype": "text/x-python",
   "name": "python",
   "nbconvert_exporter": "python",
   "pygments_lexer": "ipython3",
   "version": "3.10.9"
  },
  "orig_nbformat": 4
 },
 "nbformat": 4,
 "nbformat_minor": 2
}
